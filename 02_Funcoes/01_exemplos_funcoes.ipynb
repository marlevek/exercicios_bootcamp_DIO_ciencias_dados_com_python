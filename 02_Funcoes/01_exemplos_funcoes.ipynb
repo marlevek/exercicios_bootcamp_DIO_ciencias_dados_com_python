{
 "cells": [
  {
   "cell_type": "code",
   "execution_count": 1,
   "metadata": {},
   "outputs": [
    {
     "name": "stdout",
     "output_type": "stream",
     "text": [
      "Olá mundo!\n",
      "Seja bem-vindo Marcelo\n",
      "Seja bem-vindo Joana\n",
      "Seja bem-vindo Anônimo\n",
      "Seja bem-vindo Chappie\n"
     ]
    }
   ],
   "source": [
    "def exibir_mensagem():\n",
    "    print('Olá mundo!')\n",
    "\n",
    "\n",
    "def exibir_mensagem_2(nome):\n",
    "    print(f'Seja bem-vindo {nome}')\n",
    "\n",
    "\n",
    "def exibir_mensagem_3(nome='Anônimo'):\n",
    "    print(f'Seja bem-vindo {nome}')\n",
    "\n",
    "\n",
    "exibir_mensagem()\n",
    "exibir_mensagem_2(nome='Marcelo')\n",
    "exibir_mensagem_2('Joana')\n",
    "exibir_mensagem_3()\n",
    "exibir_mensagem_3(nome='Chappie')\n",
    "\n"
   ]
  },
  {
   "cell_type": "markdown",
   "metadata": {},
   "source": [
    "Exemplos com return"
   ]
  },
  {
   "cell_type": "code",
   "execution_count": 3,
   "metadata": {},
   "outputs": [
    {
     "name": "stdout",
     "output_type": "stream",
     "text": [
      "64\n",
      "(14, 16)\n"
     ]
    }
   ],
   "source": [
    "def calcular_total(numeros):\n",
    "    return sum(numeros)\n",
    "\n",
    "def retorna_antecessor_e_sucessor(numero):\n",
    "    antecessor = numero - 1\n",
    "    sucessor = numero + 1\n",
    "    return antecessor, sucessor\n",
    "\n",
    "print(calcular_total([10, 20, 34]))\n",
    "print(retorna_antecessor_e_sucessor(15))"
   ]
  },
  {
   "cell_type": "markdown",
   "metadata": {},
   "source": [
    "Argumentos nomeados"
   ]
  },
  {
   "cell_type": "code",
   "execution_count": 1,
   "metadata": {},
   "outputs": [
    {
     "name": "stdout",
     "output_type": "stream",
     "text": [
      "Carro inserido com sucesso! Fiat/Palio/1999/ABC-1234\n",
      "Carro inserido com sucesso! Fiat/Palio/1999/ABC-1234\n",
      "Carro inserido com sucesso! Fiat/Palio/1999/ABC-1234\n"
     ]
    }
   ],
   "source": [
    "def salvar_carro(marca, modelo, ano, placa):\n",
    "    print(f'Carro inserido com sucesso! {marca}/{modelo}/{ano}/{placa}')\n",
    "\n",
    "\n",
    "salvar_carro('Fiat', 'Palio', 1999, 'ABC-1234')\n",
    "salvar_carro(marca='Fiat', modelo='Palio', ano=1999, placa='ABC-1234')\n",
    "# passando um dicionário\n",
    "salvar_carro(**{'marca': 'Fiat', 'modelo': 'Palio', 'ano': 1999, 'placa': 'ABC-1234'})"
   ]
  },
  {
   "cell_type": "markdown",
   "metadata": {},
   "source": [
    "Args e kwargs\n",
    "<br>O método recebe os valores como tupla e dicionário respectivamente"
   ]
  },
  {
   "cell_type": "code",
   "execution_count": 7,
   "metadata": {},
   "outputs": [
    {
     "name": "stdout",
     "output_type": "stream",
     "text": [
      "Segunda, 25 de julho de 2023\n",
      "\n",
      "Zen of Python\n",
      "Beautiful is better than ugly.\n",
      "Explicit is better than implicit.\n",
      "Simple is better than complex.\n",
      "Complex is better than complicated.\n",
      "Flat is better than nested.\n",
      "Sparse is better than dense.\n",
      "Readability counts.\n",
      "Special cases aren't special enough to break the rules.\n",
      "Although practicality beats purity.\n",
      "Errors should never pass silently.\n",
      "Unless explicitly silenced.\n",
      "In the face of ambiguity, refuse the temptation to guess.\n",
      "There should be one-- and preferably only one --obvious way to do it.[a]\n",
      "Although that way may not be obvious at first unless you\"re Dutch.\n",
      "Now is better than never.\n",
      "Although never is often better than right now.[b]\n",
      "If the implementation is hard to explain, it's a bad idea.\n",
      "If the implementation is easy to explain, it may be a good idea.\n",
      "Namespaces are one honking great idea – let's do more of those!\n",
      "\n",
      "Autor: Tim Peters\n",
      "Ano: 1999\n"
     ]
    }
   ],
   "source": [
    "def exibir_poema(data_extenso, *args, **kwargs):\n",
    "    texto = '\\n'.join(args)\n",
    "    meta_dados = '\\n'.join([f'{chave.title()}: {valor}' for chave,valor in kwargs.items()])\n",
    "    mensagem = f'{data_extenso}\\n\\n{texto}\\n\\n{meta_dados}'\n",
    "    print(mensagem)\n",
    "    \n",
    "exibir_poema(\n",
    "'Segunda, 25 de julho de 2023',  \n",
    "'Zen of Python', 'Beautiful is better than ugly.', 'Explicit is better than implicit.',\n",
    "'Simple is better than complex.',\n",
    "'Complex is better than complicated.',\n",
    "'Flat is better than nested.',\n",
    "'Sparse is better than dense.',\n",
    "'Readability counts.',\n",
    "\"Special cases aren't special enough to break the rules.\",\n",
    "'Although practicality beats purity.',\n",
    "'Errors should never pass silently.',\n",
    "'Unless explicitly silenced.',\n",
    "'In the face of ambiguity, refuse the temptation to guess.',\n",
    "'There should be one-- and preferably only one --obvious way to do it.[a]',\n",
    "'Although that way may not be obvious at first unless you\"re Dutch.',\n",
    "'Now is better than never.',\n",
    "'Although never is often better than right now.[b]',\n",
    "\"If the implementation is hard to explain, it's a bad idea.\",\n",
    "'If the implementation is easy to explain, it may be a good idea.',\n",
    "\"Namespaces are one honking great idea – let's do more of those!\",\n",
    "autor='Tim Peters', ano=1999)"
   ]
  }
 ],
 "metadata": {
  "kernelspec": {
   "display_name": "Python 3",
   "language": "python",
   "name": "python3"
  },
  "language_info": {
   "codemirror_mode": {
    "name": "ipython",
    "version": 3
   },
   "file_extension": ".py",
   "mimetype": "text/x-python",
   "name": "python",
   "nbconvert_exporter": "python",
   "pygments_lexer": "ipython3",
   "version": "3.10.1"
  },
  "orig_nbformat": 4
 },
 "nbformat": 4,
 "nbformat_minor": 2
}
