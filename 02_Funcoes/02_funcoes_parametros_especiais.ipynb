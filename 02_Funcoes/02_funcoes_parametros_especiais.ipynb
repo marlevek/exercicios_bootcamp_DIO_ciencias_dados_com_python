{
 "cells": [
  {
   "cell_type": "markdown",
   "metadata": {},
   "source": [
    "#### Sintaxe\n",
    "def f(pos1, pos2, /, pos_or_kwd, *, kwd1, kwd2):\n",
    "<ul>\n",
    "<li>pos1, pos2 = somente posicional</li>\n",
    "<li>pos_or_kwd = posicional ou keyword</li>\n",
    "<li>kwd1,kwd2 = somente keyword</li>\n",
    "</ul>\n",
    "<br>Tudo que está até a '/' é somente por posição\n",
    "<br>Tudo que tem depois do '*' é somente por keyword"
   ]
  },
  {
   "cell_type": "code",
   "execution_count": 2,
   "metadata": {},
   "outputs": [
    {
     "name": "stdout",
     "output_type": "stream",
     "text": [
      "Palio 1999 ABC-1234 Fiat 1.0 Gasolina\n"
     ]
    },
    {
     "ename": "TypeError",
     "evalue": "criar_carro() got some positional-only arguments passed as keyword arguments: 'modelo, ano, placa'",
     "output_type": "error",
     "traceback": [
      "\u001b[1;31m---------------------------------------------------------------------------\u001b[0m",
      "\u001b[1;31mTypeError\u001b[0m                                 Traceback (most recent call last)",
      "\u001b[1;32mc:\\Users\\marce\\OneDrive\\Documentos\\Bootcamp_Dio_Ciencias_Dados_Python\\exercicios_bootcamp_DIO_ciencias_dados_com_python\\02_Funcoes\\02_funcoes_parametros_especiais.ipynb Cell 2\u001b[0m in \u001b[0;36m<module>\u001b[1;34m\u001b[0m\n\u001b[0;32m      <a href='vscode-notebook-cell:/c%3A/Users/marce/OneDrive/Documentos/Bootcamp_Dio_Ciencias_Dados_Python/exercicios_bootcamp_DIO_ciencias_dados_com_python/02_Funcoes/02_funcoes_parametros_especiais.ipynb#W0sZmlsZQ%3D%3D?line=1'>2</a>\u001b[0m     \u001b[39mprint\u001b[39m(modelo, ano, placa, marca, motor, combustivel)\n\u001b[0;32m      <a href='vscode-notebook-cell:/c%3A/Users/marce/OneDrive/Documentos/Bootcamp_Dio_Ciencias_Dados_Python/exercicios_bootcamp_DIO_ciencias_dados_com_python/02_Funcoes/02_funcoes_parametros_especiais.ipynb#W0sZmlsZQ%3D%3D?line=4'>5</a>\u001b[0m criar_carro(\u001b[39m'\u001b[39m\u001b[39mPalio\u001b[39m\u001b[39m'\u001b[39m, \u001b[39m1999\u001b[39m, \u001b[39m'\u001b[39m\u001b[39mABC-1234\u001b[39m\u001b[39m'\u001b[39m, marca\u001b[39m=\u001b[39m\u001b[39m'\u001b[39m\u001b[39mFiat\u001b[39m\u001b[39m'\u001b[39m, motor\u001b[39m=\u001b[39m\u001b[39m'\u001b[39m\u001b[39m1.0\u001b[39m\u001b[39m'\u001b[39m, combustivel\u001b[39m=\u001b[39m\u001b[39m'\u001b[39m\u001b[39mGasolina\u001b[39m\u001b[39m'\u001b[39m) \u001b[39m# válido\u001b[39;00m\n\u001b[1;32m----> <a href='vscode-notebook-cell:/c%3A/Users/marce/OneDrive/Documentos/Bootcamp_Dio_Ciencias_Dados_Python/exercicios_bootcamp_DIO_ciencias_dados_com_python/02_Funcoes/02_funcoes_parametros_especiais.ipynb#W0sZmlsZQ%3D%3D?line=6'>7</a>\u001b[0m criar_carro(modelo\u001b[39m=\u001b[39;49m\u001b[39m'\u001b[39;49m\u001b[39mPalio\u001b[39;49m\u001b[39m'\u001b[39;49m, ano\u001b[39m=\u001b[39;49m\u001b[39m1999\u001b[39;49m, placa\u001b[39m=\u001b[39;49m\u001b[39m'\u001b[39;49m\u001b[39mABC-1234\u001b[39;49m\u001b[39m'\u001b[39;49m, marca\u001b[39m=\u001b[39;49m\u001b[39m'\u001b[39;49m\u001b[39mFiat\u001b[39;49m\u001b[39m'\u001b[39;49m, motor\u001b[39m=\u001b[39;49m\u001b[39m'\u001b[39;49m\u001b[39m1.0\u001b[39;49m\u001b[39m'\u001b[39;49m, combustivel\u001b[39m=\u001b[39;49m\u001b[39m'\u001b[39;49m\u001b[39mGasolina\u001b[39;49m\u001b[39m'\u001b[39;49m)\n",
      "\u001b[1;31mTypeError\u001b[0m: criar_carro() got some positional-only arguments passed as keyword arguments: 'modelo, ano, placa'"
     ]
    }
   ],
   "source": [
    "def criar_carro(modelo, ano, placa, /, marca, motor, combustivel):\n",
    "    print(modelo, ano, placa, marca, motor, combustivel)\n",
    "    \n",
    "\n",
    "criar_carro('Palio', 1999, 'ABC-1234', marca='Fiat', motor='1.0', combustivel='Gasolina') # válido\n",
    "\n",
    "criar_carro(modelo='Palio', ano=1999, placa='ABC-1234', marca='Fiat', motor='1.0', combustivel='Gasolina') # inválido"
   ]
  },
  {
   "cell_type": "code",
   "execution_count": 3,
   "metadata": {},
   "outputs": [
    {
     "name": "stdout",
     "output_type": "stream",
     "text": [
      "Palio 1999 ABC-1234 Fiat 1.0 Gasoliia\n"
     ]
    },
    {
     "ename": "TypeError",
     "evalue": "criar_carro() takes 0 positional arguments but 3 positional arguments (and 3 keyword-only arguments) were given",
     "output_type": "error",
     "traceback": [
      "\u001b[1;31m---------------------------------------------------------------------------\u001b[0m",
      "\u001b[1;31mTypeError\u001b[0m                                 Traceback (most recent call last)",
      "\u001b[1;32mc:\\Users\\marce\\OneDrive\\Documentos\\Bootcamp_Dio_Ciencias_Dados_Python\\exercicios_bootcamp_DIO_ciencias_dados_com_python\\02_Funcoes\\02_funcoes_parametros_especiais.ipynb Cell 3\u001b[0m in \u001b[0;36m<module>\u001b[1;34m\u001b[0m\n\u001b[0;32m      <a href='vscode-notebook-cell:/c%3A/Users/marce/OneDrive/Documentos/Bootcamp_Dio_Ciencias_Dados_Python/exercicios_bootcamp_DIO_ciencias_dados_com_python/02_Funcoes/02_funcoes_parametros_especiais.ipynb#W3sZmlsZQ%3D%3D?line=2'>3</a>\u001b[0m     \u001b[39mprint\u001b[39m(modelo, ano, placa, marca, motor, combustivel)\n\u001b[0;32m      <a href='vscode-notebook-cell:/c%3A/Users/marce/OneDrive/Documentos/Bootcamp_Dio_Ciencias_Dados_Python/exercicios_bootcamp_DIO_ciencias_dados_com_python/02_Funcoes/02_funcoes_parametros_especiais.ipynb#W3sZmlsZQ%3D%3D?line=5'>6</a>\u001b[0m criar_carro(modelo\u001b[39m=\u001b[39m\u001b[39m'\u001b[39m\u001b[39mPalio\u001b[39m\u001b[39m'\u001b[39m, ano\u001b[39m=\u001b[39m\u001b[39m1999\u001b[39m, placa\u001b[39m=\u001b[39m\u001b[39m'\u001b[39m\u001b[39mABC-1234\u001b[39m\u001b[39m'\u001b[39m, marca\u001b[39m=\u001b[39m\u001b[39m'\u001b[39m\u001b[39mFiat\u001b[39m\u001b[39m'\u001b[39m, motor\u001b[39m=\u001b[39m\u001b[39m'\u001b[39m\u001b[39m1.0\u001b[39m\u001b[39m'\u001b[39m, combustivel\u001b[39m=\u001b[39m\u001b[39m'\u001b[39m\u001b[39mGasoliia\u001b[39m\u001b[39m'\u001b[39m) \u001b[39m# valido\u001b[39;00m\n\u001b[1;32m----> <a href='vscode-notebook-cell:/c%3A/Users/marce/OneDrive/Documentos/Bootcamp_Dio_Ciencias_Dados_Python/exercicios_bootcamp_DIO_ciencias_dados_com_python/02_Funcoes/02_funcoes_parametros_especiais.ipynb#W3sZmlsZQ%3D%3D?line=7'>8</a>\u001b[0m criar_carro(\u001b[39m'\u001b[39;49m\u001b[39mPalio\u001b[39;49m\u001b[39m'\u001b[39;49m, \u001b[39m1999\u001b[39;49m, \u001b[39m'\u001b[39;49m\u001b[39mABC-1234\u001b[39;49m\u001b[39m'\u001b[39;49m, marca\u001b[39m=\u001b[39;49m\u001b[39m'\u001b[39;49m\u001b[39mFiat\u001b[39;49m\u001b[39m'\u001b[39;49m, motor\u001b[39m=\u001b[39;49m\u001b[39m'\u001b[39;49m\u001b[39m1.0\u001b[39;49m\u001b[39m'\u001b[39;49m, combustivel\u001b[39m=\u001b[39;49m\u001b[39m'\u001b[39;49m\u001b[39mGasolina\u001b[39;49m\u001b[39m'\u001b[39;49m)\n",
      "\u001b[1;31mTypeError\u001b[0m: criar_carro() takes 0 positional arguments but 3 positional arguments (and 3 keyword-only arguments) were given"
     ]
    }
   ],
   "source": [
    "# Keyword only\n",
    "def criar_carro(*, modelo, ano, placa, marca, motor, combustivel):\n",
    "    print(modelo, ano, placa, marca, motor, combustivel)\n",
    "\n",
    "\n",
    "criar_carro(modelo='Palio', ano=1999, placa='ABC-1234', marca='Fiat', motor='1.0', combustivel='Gasoliia') # valido\n",
    "\n",
    "criar_carro('Palio', 1999, 'ABC-1234', marca='Fiat', motor='1.0', combustivel='Gasolina') # invalido"
   ]
  },
  {
   "cell_type": "markdown",
   "metadata": {},
   "source": [
    "Keyword and positional only"
   ]
  },
  {
   "cell_type": "code",
   "execution_count": 4,
   "metadata": {},
   "outputs": [
    {
     "name": "stdout",
     "output_type": "stream",
     "text": [
      "Palio 1999 ABC-1234 Fiat 1.0 Gasolina\n"
     ]
    },
    {
     "ename": "TypeError",
     "evalue": "criar_carro() got some positional-only arguments passed as keyword arguments: 'modelo, ano, placa'",
     "output_type": "error",
     "traceback": [
      "\u001b[1;31m---------------------------------------------------------------------------\u001b[0m",
      "\u001b[1;31mTypeError\u001b[0m                                 Traceback (most recent call last)",
      "\u001b[1;32mc:\\Users\\marce\\OneDrive\\Documentos\\Bootcamp_Dio_Ciencias_Dados_Python\\exercicios_bootcamp_DIO_ciencias_dados_com_python\\02_Funcoes\\02_funcoes_parametros_especiais.ipynb Cell 5\u001b[0m in \u001b[0;36m<module>\u001b[1;34m\u001b[0m\n\u001b[0;32m      <a href='vscode-notebook-cell:/c%3A/Users/marce/OneDrive/Documentos/Bootcamp_Dio_Ciencias_Dados_Python/exercicios_bootcamp_DIO_ciencias_dados_com_python/02_Funcoes/02_funcoes_parametros_especiais.ipynb#W5sZmlsZQ%3D%3D?line=1'>2</a>\u001b[0m     \u001b[39mprint\u001b[39m(modelo, ano, placa, marca, motor, combustivel)\n\u001b[0;32m      <a href='vscode-notebook-cell:/c%3A/Users/marce/OneDrive/Documentos/Bootcamp_Dio_Ciencias_Dados_Python/exercicios_bootcamp_DIO_ciencias_dados_com_python/02_Funcoes/02_funcoes_parametros_especiais.ipynb#W5sZmlsZQ%3D%3D?line=3'>4</a>\u001b[0m criar_carro(\u001b[39m'\u001b[39m\u001b[39mPalio\u001b[39m\u001b[39m'\u001b[39m, \u001b[39m1999\u001b[39m, \u001b[39m'\u001b[39m\u001b[39mABC-1234\u001b[39m\u001b[39m'\u001b[39m, marca\u001b[39m=\u001b[39m\u001b[39m'\u001b[39m\u001b[39mFiat\u001b[39m\u001b[39m'\u001b[39m, motor\u001b[39m=\u001b[39m\u001b[39m'\u001b[39m\u001b[39m1.0\u001b[39m\u001b[39m'\u001b[39m, combustivel\u001b[39m=\u001b[39m\u001b[39m'\u001b[39m\u001b[39mGasolina\u001b[39m\u001b[39m'\u001b[39m) \u001b[39m# valido\u001b[39;00m\n\u001b[1;32m----> <a href='vscode-notebook-cell:/c%3A/Users/marce/OneDrive/Documentos/Bootcamp_Dio_Ciencias_Dados_Python/exercicios_bootcamp_DIO_ciencias_dados_com_python/02_Funcoes/02_funcoes_parametros_especiais.ipynb#W5sZmlsZQ%3D%3D?line=5'>6</a>\u001b[0m criar_carro(modelo\u001b[39m=\u001b[39;49m\u001b[39m'\u001b[39;49m\u001b[39mPalio\u001b[39;49m\u001b[39m'\u001b[39;49m, ano\u001b[39m=\u001b[39;49m\u001b[39m1999\u001b[39;49m, placa\u001b[39m=\u001b[39;49m\u001b[39m'\u001b[39;49m\u001b[39mABC-1234\u001b[39;49m\u001b[39m'\u001b[39;49m, marca\u001b[39m=\u001b[39;49m\u001b[39m'\u001b[39;49m\u001b[39mFiat\u001b[39;49m\u001b[39m'\u001b[39;49m, motor\u001b[39m=\u001b[39;49m\u001b[39m'\u001b[39;49m\u001b[39m1.0\u001b[39;49m\u001b[39m'\u001b[39;49m, combustivel\u001b[39m=\u001b[39;49m\u001b[39m'\u001b[39;49m\u001b[39mGasolina\u001b[39;49m\u001b[39m'\u001b[39;49m)\n",
      "\u001b[1;31mTypeError\u001b[0m: criar_carro() got some positional-only arguments passed as keyword arguments: 'modelo, ano, placa'"
     ]
    }
   ],
   "source": [
    "def criar_carro(modelo, ano, placa, /, *, marca, motor, combustivel):\n",
    "    print(modelo, ano, placa, marca, motor, combustivel)\n",
    "\n",
    "criar_carro('Palio', 1999, 'ABC-1234', marca='Fiat', motor='1.0', combustivel='Gasolina') # valido\n",
    "\n",
    "criar_carro(modelo='Palio', ano=1999, placa='ABC-1234', marca='Fiat', motor='1.0', combustivel='Gasolina') # invalido"
   ]
  },
  {
   "cell_type": "markdown",
   "metadata": {},
   "source": [
    "#### Objetos de primeira classe\n",
    "Em Python tudo é objeto, assim funções também são objetos, o que as torna objetos de primeira classe. Com isso podemos atribuir funções a variáveis, passá-las como parâmero para funções, usá-las como valores em estruturas de dados (listas, tuplas, dicionários, etc) e usar como valor de retorno para uma função (closures)"
   ]
  },
  {
   "cell_type": "code",
   "execution_count": 11,
   "metadata": {},
   "outputs": [
    {
     "name": "stdout",
     "output_type": "stream",
     "text": [
      "O resultado da operação é = 20\n",
      "O resultado da operação é = 0\n",
      "O resultado da operação é = 8\n"
     ]
    }
   ],
   "source": [
    "def somar(a, b):\n",
    "    return a + b\n",
    "\n",
    "\n",
    "def subtrair(a, b):\n",
    "    return a - b\n",
    "\n",
    "\n",
    "def exponencial(a, b):\n",
    "    return a ** b\n",
    "\n",
    "\n",
    "def exibir_resultado(a, b, funcao):\n",
    "    resultado = funcao(a, b)\n",
    "    print(f'O resultado da operação é = {resultado}')\n",
    "\n",
    "\n",
    "exibir_resultado(10, 10, somar)\n",
    "exibir_resultado(10, 10, subtrair)\n",
    "exibir_resultado(2, 3, exponencial)"
   ]
  },
  {
   "cell_type": "code",
   "execution_count": 13,
   "metadata": {},
   "outputs": [
    {
     "name": "stdout",
     "output_type": "stream",
     "text": [
      "24\n",
      "81\n"
     ]
    }
   ],
   "source": [
    "# Atribuindo o apontamento da função a uma variável\n",
    "soma = somar\n",
    "exponencial = exponencial\n",
    "\n",
    "print(soma(1, 23))\n",
    "print(exponencial(3, 4))"
   ]
  },
  {
   "cell_type": "markdown",
   "metadata": {},
   "source": [
    "#### Escopo local e global\n",
    "Dentro do bloco da função é escopo logal. Portanto alterações feitas ali em objetos imutáveis serão perdidas quando o método terminar de ser executado.<br>Para usar objetos globais utilizamos a palavra-chave <font style='font-weight: 600'>global</font>, que informa ao interpretador que a variável que está snedo manipulada no escopo local é global. Essa <font style=\"color: red\">não é uma boa prática</font> e deve ser evitada."
   ]
  },
  {
   "cell_type": "code",
   "execution_count": 17,
   "metadata": {},
   "outputs": [
    {
     "data": {
      "text/plain": [
       "'Variável local'"
      ]
     },
     "execution_count": 17,
     "metadata": {},
     "output_type": "execute_result"
    }
   ],
   "source": [
    "# Escopo local\n",
    "def local(msg):\n",
    "    txt = msg\n",
    "    return txt\n",
    "\n",
    "\n",
    "local('Variável local')"
   ]
  },
  {
   "cell_type": "code",
   "execution_count": 21,
   "metadata": {},
   "outputs": [
    {
     "data": {
      "text/plain": [
       "2500"
      ]
     },
     "execution_count": 21,
     "metadata": {},
     "output_type": "execute_result"
    }
   ],
   "source": [
    "# Utilizando variável global dentro da função, tem que definir a variável como global dentro da função\n",
    "salario = 2000\n",
    "\n",
    "def salario_bonus(bonus):\n",
    "    global salario\n",
    "    #salario = 1500 # não funciona pois salario está como global\n",
    "    salario += bonus\n",
    "    return salario\n",
    "\n",
    "salario_bonus(500)"
   ]
  }
 ],
 "metadata": {
  "kernelspec": {
   "display_name": "Python 3",
   "language": "python",
   "name": "python3"
  },
  "language_info": {
   "codemirror_mode": {
    "name": "ipython",
    "version": 3
   },
   "file_extension": ".py",
   "mimetype": "text/x-python",
   "name": "python",
   "nbconvert_exporter": "python",
   "pygments_lexer": "ipython3",
   "version": "3.10.1"
  },
  "orig_nbformat": 4
 },
 "nbformat": 4,
 "nbformat_minor": 2
}
